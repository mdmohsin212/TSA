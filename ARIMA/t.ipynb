{
 "cells": [
  {
   "cell_type": "code",
   "execution_count": null,
   "id": "37996cd3",
   "metadata": {},
   "outputs": [],
   "source": [
    "from statsmodels.tsa.arima_model import ARIMA\n",
    "from sklearn.metrics import mean_squared_error\n",
    "\n",
    "p_value = [1,2,3,4,5,6]\n",
    "d_value = [0,1,2]\n",
    "q_value = [1,2,3,4,5,6]\n",
    "\n",
    "best_rmse, best_p, best_d, best_q = np.inf, None, None, None\n",
    "history = [x for x in train]\n",
    "\n",
    "prediction = list()\n",
    "\n",
    "for p in p_value:\n",
    "    for d in d_value:\n",
    "        for q in q_value:\n",
    "            order = (p, d, q)\n",
    "            try:\n",
    "                for t in range(len(test)):\n",
    "                    model = ARIMA(history, order=order)\n",
    "                    model_fit = model.fit()\n",
    "                    yhat = model_fit.forcast()[0]\n",
    "                    prediction.append(yhat)\n",
    "                    history.append(test[t])\n",
    "                    \n",
    "                    rmse = np.sqrt(mean_squared_error(test, prediction))\n",
    "                    \n",
    "                    if rmse < best_rmse:\n",
    "                        best_rmse, best_p, best_d, best_q = rmse, p, d, q\n",
    "            except:\n",
    "                continue\n",
    "\n",
    "print(f\"Best RMSE : {best_rmse}\")             \n",
    "print(f\"Best P : {best_p}\")             \n",
    "print(f\"Best d : {best_d}\")             \n",
    "print(f\"Best q : {best_p}\")             "
   ]
  }
 ],
 "metadata": {
  "language_info": {
   "name": "python"
  }
 },
 "nbformat": 4,
 "nbformat_minor": 5
}
